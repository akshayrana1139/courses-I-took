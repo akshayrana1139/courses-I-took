{
 "cells": [
  {
   "cell_type": "markdown",
   "metadata": {},
   "source": [
    "### Objective\n",
    "- Use non-linear units like ReLU to improve your model\n",
    "- Build a deeper neural network (with more than 1 hidden layer)\n",
    "- Implement an easy-to-use neural network class\n"
   ]
  },
  {
   "cell_type": "code",
   "execution_count": 10,
   "metadata": {},
   "outputs": [
    {
     "name": "stdout",
     "output_type": "stream",
     "text": [
      "The autoreload extension is already loaded. To reload it, use:\n",
      "  %reload_ext autoreload\n"
     ]
    }
   ],
   "source": [
    "import numpy as np\n",
    "import h5py\n",
    "import matplotlib.pyplot as plt\n",
    "# from testCases_v2 import *\n",
    "from dnn_app_utils_v2 import load_data\n",
    "from dnn_utils_v2 import sigmoid, sigmoid_backward, relu, relu_backward\n",
    "\n",
    "\n",
    "%matplotlib inline\n",
    "plt.rcParams['figure.figsize'] = (5.0, 4.0) # set default size of plots\n",
    "plt.rcParams['image.interpolation'] = 'nearest'\n",
    "plt.rcParams['image.cmap'] = 'gray'\n",
    "\n",
    "%load_ext autoreload\n",
    "%autoreload 2\n",
    "\n",
    "np.random.seed(1)"
   ]
  },
  {
   "cell_type": "code",
   "execution_count": 38,
   "metadata": {},
   "outputs": [],
   "source": [
    "def L_initialize_parameters(layer_dims):\n",
    "    np.random.seed(3)\n",
    "    params = {}\n",
    "    for l in range(1, len(layer_dims)):\n",
    "        params[\"W\"+str(l)] = np.random.randn(layer_dims[l], layer_dims[l-1]) * 0.01\n",
    "        params[\"b\"+str(l)] = np.zeros((layer_dims[l], 1))\n",
    "    return params"
   ]
  },
  {
   "cell_type": "code",
   "execution_count": 40,
   "metadata": {},
   "outputs": [],
   "source": [
    "\n",
    "\n",
    "\n",
    "\n",
    "def L_model_forward(X, params):\n",
    "    A = X \n",
    "    L = int(len(params)/2) # Length of layers\n",
    "#     print(\"Length of params \"+str(params))\n",
    "    caches = []\n",
    "    for i in range(1, L):\n",
    "        W = params[\"W\"+str(i)]\n",
    "        b = params[\"b\"+str(i)]\n",
    "        print(\"W :\"+str(W.shape))\n",
    "        print(\"A :\"+str(A.shape))\n",
    "        Z = np.dot(W, A) + b\n",
    "        print(\"Z :\"+str(Z.shape))\n",
    "        A = np.maximum(0,Z) # RELU\n",
    "\n",
    "        print(\"A^ :\"+str(A.shape))\n",
    "\n",
    "        caches.append([A,W,b,Z])\n",
    "    Z = np.dot(params[\"W\"+str(L)], A) + params[\"b\"+str(L)]\n",
    "    AL = 1/(1+np.exp(-Z))\n",
    "\n",
    "    return AL, caches"
   ]
  },
  {
   "cell_type": "code",
   "execution_count": 4,
   "metadata": {},
   "outputs": [],
   "source": [
    "def compute_cost(AL, Y):\n",
    "    m = Y.shape[1]\n",
    "    cost = (-1./m)*np.sum((Y*np.log(AL) + (1-Y)*np.log(1-AL)), axis = 1)\n",
    "    cost = np.squeeze(cost)\n",
    "    return cost"
   ]
  },
  {
   "cell_type": "code",
   "execution_count": 5,
   "metadata": {},
   "outputs": [],
   "source": [
    "def backward_propagate(cache, dAL, activation):\n",
    "    A_prev, W, b, Z = cache\n",
    "    if activation == \"relu\":\n",
    "        dZ = relu_backward(dA, Z)\n",
    "    if activation == \"sigmoid\":\n",
    "        dZ = sigmoid_backward(dA, Z)\n",
    "    dW = (1. / m) * np.dot(dZ, A_prev.T) \n",
    "    db = (1. / m) * np.sum(dZ, axis=1, keepdims=True)\n",
    "    dA_prev = np.dot(W.T, dZ)\n",
    "    return dA_prev, dW, db\n",
    "\n",
    "def L_model_backward(AL, Y, cache):\n",
    "    L = len(cache)\n",
    "    dAL = np.divide(Y, AL) - np.divide((1-Y), (1-AL))\n",
    "    grads[\"dA\" + str(L)], grads[\"dW\" + str(L)], grads[\"db\" + str(L)] = backward_propagate(cache, dAL, \"sigmoid\")\n",
    "    for l in reversed(range(L-1)):\n",
    "        a, b, c = backward_propagate(cache, grads[\"dA\" + str(l + 2)], \"relu\")\n",
    "        grads[\"dA\" + str(l + 1)], grads[\"dW\" + str(l + 1)], grads[\"db\" + str(l + 1)] = a, b, c \n",
    "    return grads"
   ]
  },
  {
   "cell_type": "code",
   "execution_count": 6,
   "metadata": {},
   "outputs": [],
   "source": [
    "def update_parameters(parameters, grads, learning_rate = 0.01):\n",
    "    L = len(parameters)\n",
    "    for i in range(L):\n",
    "        parameters[\"W\" + str(l+1)] = parameters[\"W\" + str(l+1)] - learning_rate * grads[\"dW\" + str(l+1)]\n",
    "        parameters[\"b\" + str(l+1)] = parameters[\"b\" + str(l+1)] - learning_rate * grads[\"db\" + str(l+1)]\n",
    "    \n",
    "    return parameters"
   ]
  },
  {
   "cell_type": "code",
   "execution_count": 24,
   "metadata": {},
   "outputs": [],
   "source": [
    "def L_layer_modela(X, Y, layers_dims, learning_rate = 0.0075, num_iterations = 3000, print_cost = False):\n",
    "    np.random.seed(1)\n",
    "    costs = []\n",
    "    print(len(layers_dims))\n",
    "    parameters = L_initialize_parameters(layers_dims)\n",
    "    for i in range(0, num_iterations):\n",
    "        AL, caches = L_model_forward(X, parameters)\n",
    "        cost = compute_cost(AL, Y)\n",
    "        grads = L_model_backward(AL, Y, caches)\n",
    "        parameters = update_parameters(parameters, grads, learning_rate)\n",
    "        \n",
    "        if print_cost and i % 100 == 0:\n",
    "            print (\"Cost after iteration %i: %f\" %(i, cost))\n",
    "        if print_cost and i % 100 == 0:\n",
    "            costs.append(cost)\n",
    "            \n",
    "    # plot the cost\n",
    "    plt.plot(np.squeeze(costs))\n",
    "    plt.ylabel('cost')\n",
    "    plt.xlabel('iterations (per tens)')\n",
    "    plt.title(\"Learning rate =\" + str(learning_rate))\n",
    "    plt.show()\n",
    "    \n",
    "    return parameters\n"
   ]
  },
  {
   "cell_type": "code",
   "execution_count": 12,
   "metadata": {},
   "outputs": [
    {
     "name": "stdout",
     "output_type": "stream",
     "text": [
      "train_x's shape: (12288, 209)\n",
      "test_x's shape: (12288, 50)\n"
     ]
    }
   ],
   "source": [
    "train_x_orig, train_y, test_x_orig, test_y, classes = load_data()\n",
    "# Reshape the training and test examples \n",
    "train_x_flatten = train_x_orig.reshape(train_x_orig.shape[0], -1).T   # The \"-1\" makes reshape flatten the remaining dimensions\n",
    "test_x_flatten = test_x_orig.reshape(test_x_orig.shape[0], -1).T\n",
    "\n",
    "# Standardize data to have feature values between 0 and 1.\n",
    "train_x = train_x_flatten/255.\n",
    "test_x = test_x_flatten/255.\n",
    "\n",
    "print (\"train_x's shape: \" + str(train_x.shape))\n",
    "print (\"test_x's shape: \" + str(test_x.shape))"
   ]
  },
  {
   "cell_type": "code",
   "execution_count": 13,
   "metadata": {},
   "outputs": [],
   "source": [
    "layers_dims = [12288, 20, 7, 5, 1] #  5-layer model"
   ]
  },
  {
   "cell_type": "code",
   "execution_count": 41,
   "metadata": {},
   "outputs": [
    {
     "name": "stdout",
     "output_type": "stream",
     "text": [
      "5\n",
      "5\n",
      "Length of params {'W1': array([[ 0.01788628,  0.0043651 ,  0.00096497, ...,  0.00742033,\n",
      "         0.00777721, -0.02044101],\n",
      "       [-0.02034741, -0.01277108, -0.00845047, ..., -0.01592858,\n",
      "         0.01189758,  0.0136909 ],\n",
      "       [ 0.00736324,  0.01040032, -0.00610759, ..., -0.00719972,\n",
      "         0.01342522, -0.00194119],\n",
      "       ...,\n",
      "       [ 0.00152689,  0.0117185 , -0.01256988, ..., -0.01793973,\n",
      "         0.00977007,  0.00740467],\n",
      "       [ 0.00301225,  0.01519223,  0.00774002, ..., -0.00081801,\n",
      "        -0.00483844,  0.01257785],\n",
      "       [ 0.01000491,  0.0052482 , -0.0007646 , ...,  0.00668237,\n",
      "         0.00346636, -0.00618991]]), 'b1': array([[0.],\n",
      "       [0.],\n",
      "       [0.],\n",
      "       [0.],\n",
      "       [0.],\n",
      "       [0.],\n",
      "       [0.],\n",
      "       [0.],\n",
      "       [0.],\n",
      "       [0.],\n",
      "       [0.],\n",
      "       [0.],\n",
      "       [0.],\n",
      "       [0.],\n",
      "       [0.],\n",
      "       [0.],\n",
      "       [0.],\n",
      "       [0.],\n",
      "       [0.],\n",
      "       [0.]]), 'W2': array([[-4.21271010e-03,  1.35979614e-03,  3.84183394e-03,\n",
      "         5.84163765e-04,  5.34057235e-03,  1.54526233e-03,\n",
      "        -1.25999313e-03, -1.17097180e-02,  1.28871261e-02,\n",
      "        -1.43872641e-02,  4.83399084e-03,  3.33350057e-02,\n",
      "         9.57051338e-03,  1.45575112e-02,  9.73636104e-03,\n",
      "         2.36601533e-03,  1.73166184e-02,  8.14849687e-04,\n",
      "         1.53212603e-02, -2.68614820e-02],\n",
      "       [ 1.39676313e-03,  3.15056190e-03,  1.52984961e-03,\n",
      "        -7.12868771e-03, -2.58443020e-03, -1.44394594e-02,\n",
      "         4.75801104e-03, -1.30963510e-03,  1.13131135e-02,\n",
      "         2.64695788e-03, -4.28777852e-03,  7.54521706e-03,\n",
      "         4.06175497e-03, -4.32056359e-03, -7.73255181e-03,\n",
      "         9.78071766e-03,  2.09730707e-02,  1.25752083e-02,\n",
      "         9.93456896e-03,  9.68807947e-03],\n",
      "       [ 7.64303430e-03, -1.17622589e-03,  6.41469418e-05,\n",
      "        -2.10941579e-03, -2.63930345e-03,  1.61537995e-02,\n",
      "         9.16162135e-03, -8.24744807e-03,  1.00150871e-02,\n",
      "        -9.07160104e-03, -3.00270275e-02,  1.30303518e-02,\n",
      "         1.97970540e-03,  6.54938867e-04,  7.20336637e-03,\n",
      "         6.99215041e-04,  1.63094855e-02,  1.72697505e-02,\n",
      "         1.92012315e-03,  4.12974834e-03],\n",
      "       [ 1.79980879e-02,  1.24571884e-02, -2.23822403e-03,\n",
      "        -7.68905121e-03,  1.81895870e-02, -2.55751550e-02,\n",
      "         1.51468080e-02, -4.43458170e-03, -1.62544888e-02,\n",
      "        -7.73636957e-03,  8.09188163e-03,  6.93405711e-03,\n",
      "         5.87461336e-03,  3.41985380e-03, -1.17682878e-02,\n",
      "        -1.72621389e-04, -8.13335041e-04,  6.33666132e-03,\n",
      "         1.21506555e-02,  9.30953451e-03],\n",
      "       [-5.84251386e-03, -1.19633724e-02,  7.76412556e-03,\n",
      "        -1.79914965e-02, -1.25857460e-03, -1.03542429e-02,\n",
      "         1.19558851e-03,  8.10550748e-03, -1.14217384e-02,\n",
      "         9.08434657e-03,  6.09093890e-03,  1.24110872e-02,\n",
      "         8.92089988e-04,  8.95379784e-03, -1.70719576e-02,\n",
      "        -2.27379184e-03,  3.78384694e-03, -8.34114755e-03,\n",
      "        -2.52331693e-02, -1.38136206e-02],\n",
      "       [-6.40806500e-03,  2.09409276e-03, -1.33251410e-02,\n",
      "        -1.73376221e-03, -3.62260040e-03,  1.10590629e-02,\n",
      "        -7.81675250e-03, -4.10353606e-03,  4.03955933e-03,\n",
      "         1.91323586e-02,  1.59316962e-02, -1.35669073e-02,\n",
      "         8.15882699e-03,  3.24266361e-03,  6.67156679e-03,\n",
      "         1.41038125e-02,  2.07323287e-02,  9.95187707e-03,\n",
      "         9.87807686e-03,  1.03548669e-02],\n",
      "       [-5.55294560e-03, -2.20633760e-02,  8.64188291e-03,\n",
      "        -3.83827650e-04, -8.50784433e-03,  3.22886851e-03,\n",
      "         7.32361616e-03,  1.82952006e-03, -5.07068537e-03,\n",
      "         3.94430513e-03,  1.34425917e-03,  1.50505237e-04,\n",
      "         2.23791240e-03, -4.07863201e-03, -1.86986708e-02,\n",
      "        -5.46039945e-03,  5.25811820e-03,  2.52826503e-03,\n",
      "        -1.10286474e-03, -3.49369573e-03]]), 'b2': array([[0.],\n",
      "       [0.],\n",
      "       [0.],\n",
      "       [0.],\n",
      "       [0.],\n",
      "       [0.],\n",
      "       [0.]]), 'W3': array([[-0.00315722, -0.00033065,  0.01533621, -0.0079752 ,  0.01067069,\n",
      "         0.00460911,  0.00032447],\n",
      "       [-0.00312883,  0.0058484 ,  0.00935624,  0.00291388, -0.00193885,\n",
      "         0.00616882,  0.0113575 ],\n",
      "       [ 0.00882555,  0.00819184,  0.02084518,  0.00488694,  0.00734218,\n",
      "        -0.00613533,  0.0231838 ],\n",
      "       [-0.00040896,  0.01629233, -0.02473968, -0.00400609,  0.00149819,\n",
      "         0.00640402,  0.00102458],\n",
      "       [ 0.00523195,  0.00195679,  0.00304137,  0.00428415, -0.00773179,\n",
      "        -0.00057946, -0.00458769]]), 'b3': array([[0.],\n",
      "       [0.],\n",
      "       [0.],\n",
      "       [0.],\n",
      "       [0.]]), 'W4': array([[-0.00278117,  0.00068419,  0.00488941,  0.00753637,  0.00635735]]), 'b4': array([[0.]])}\n",
      "W :(20, 12288)\n",
      "A :(12288, 209)\n",
      "Z :(20, 209)\n",
      "A^ :(20, 209)\n",
      "W :(7, 20)\n",
      "A :(20, 209)\n",
      "Z :(7, 209)\n",
      "A^ :(7, 209)\n",
      "W :(5, 7)\n",
      "A :(7, 209)\n",
      "Z :(5, 209)\n",
      "A^ :(5, 209)\n"
     ]
    },
    {
     "ename": "ValueError",
     "evalue": "not enough values to unpack (expected 4, got 3)",
     "output_type": "error",
     "traceback": [
      "\u001b[1;31m---------------------------------------------------------------------------\u001b[0m",
      "\u001b[1;31mValueError\u001b[0m                                Traceback (most recent call last)",
      "\u001b[1;32m<ipython-input-41-a5b0fcc54572>\u001b[0m in \u001b[0;36m<module>\u001b[1;34m()\u001b[0m\n\u001b[0;32m      1\u001b[0m \u001b[0mprint\u001b[0m\u001b[1;33m(\u001b[0m\u001b[0mlen\u001b[0m\u001b[1;33m(\u001b[0m\u001b[0mlayers_dims\u001b[0m\u001b[1;33m)\u001b[0m\u001b[1;33m)\u001b[0m\u001b[1;33m\u001b[0m\u001b[0m\n\u001b[1;32m----> 2\u001b[1;33m \u001b[0mparameters\u001b[0m \u001b[1;33m=\u001b[0m \u001b[0mL_layer_modela\u001b[0m\u001b[1;33m(\u001b[0m\u001b[0mtrain_x\u001b[0m\u001b[1;33m,\u001b[0m \u001b[0mtrain_y\u001b[0m\u001b[1;33m,\u001b[0m \u001b[0mlayers_dims\u001b[0m\u001b[1;33m,\u001b[0m \u001b[0mnum_iterations\u001b[0m \u001b[1;33m=\u001b[0m \u001b[1;36m2500\u001b[0m\u001b[1;33m,\u001b[0m \u001b[0mprint_cost\u001b[0m \u001b[1;33m=\u001b[0m \u001b[1;32mTrue\u001b[0m\u001b[1;33m)\u001b[0m\u001b[1;33m\u001b[0m\u001b[0m\n\u001b[0m",
      "\u001b[1;32m<ipython-input-24-630b3e86ae32>\u001b[0m in \u001b[0;36mL_layer_modela\u001b[1;34m(X, Y, layers_dims, learning_rate, num_iterations, print_cost)\u001b[0m\n\u001b[0;32m      7\u001b[0m         \u001b[0mAL\u001b[0m\u001b[1;33m,\u001b[0m \u001b[0mcaches\u001b[0m \u001b[1;33m=\u001b[0m \u001b[0mL_model_forward\u001b[0m\u001b[1;33m(\u001b[0m\u001b[0mX\u001b[0m\u001b[1;33m,\u001b[0m \u001b[0mparameters\u001b[0m\u001b[1;33m)\u001b[0m\u001b[1;33m\u001b[0m\u001b[0m\n\u001b[0;32m      8\u001b[0m         \u001b[0mcost\u001b[0m \u001b[1;33m=\u001b[0m \u001b[0mcompute_cost\u001b[0m\u001b[1;33m(\u001b[0m\u001b[0mAL\u001b[0m\u001b[1;33m,\u001b[0m \u001b[0mY\u001b[0m\u001b[1;33m)\u001b[0m\u001b[1;33m\u001b[0m\u001b[0m\n\u001b[1;32m----> 9\u001b[1;33m         \u001b[0mgrads\u001b[0m \u001b[1;33m=\u001b[0m \u001b[0mL_model_backward\u001b[0m\u001b[1;33m(\u001b[0m\u001b[0mAL\u001b[0m\u001b[1;33m,\u001b[0m \u001b[0mY\u001b[0m\u001b[1;33m,\u001b[0m \u001b[0mcaches\u001b[0m\u001b[1;33m)\u001b[0m\u001b[1;33m\u001b[0m\u001b[0m\n\u001b[0m\u001b[0;32m     10\u001b[0m         \u001b[0mparameters\u001b[0m \u001b[1;33m=\u001b[0m \u001b[0mupdate_parameters\u001b[0m\u001b[1;33m(\u001b[0m\u001b[0mparameters\u001b[0m\u001b[1;33m,\u001b[0m \u001b[0mgrads\u001b[0m\u001b[1;33m,\u001b[0m \u001b[0mlearning_rate\u001b[0m\u001b[1;33m)\u001b[0m\u001b[1;33m\u001b[0m\u001b[0m\n\u001b[0;32m     11\u001b[0m \u001b[1;33m\u001b[0m\u001b[0m\n",
      "\u001b[1;32m<ipython-input-5-3de379f463d7>\u001b[0m in \u001b[0;36mL_model_backward\u001b[1;34m(AL, Y, cache)\u001b[0m\n\u001b[0;32m     13\u001b[0m     \u001b[0mL\u001b[0m \u001b[1;33m=\u001b[0m \u001b[0mlen\u001b[0m\u001b[1;33m(\u001b[0m\u001b[0mcache\u001b[0m\u001b[1;33m)\u001b[0m\u001b[1;33m\u001b[0m\u001b[0m\n\u001b[0;32m     14\u001b[0m     \u001b[0mdAL\u001b[0m \u001b[1;33m=\u001b[0m \u001b[0mnp\u001b[0m\u001b[1;33m.\u001b[0m\u001b[0mdivide\u001b[0m\u001b[1;33m(\u001b[0m\u001b[0mY\u001b[0m\u001b[1;33m,\u001b[0m \u001b[0mAL\u001b[0m\u001b[1;33m)\u001b[0m \u001b[1;33m-\u001b[0m \u001b[0mnp\u001b[0m\u001b[1;33m.\u001b[0m\u001b[0mdivide\u001b[0m\u001b[1;33m(\u001b[0m\u001b[1;33m(\u001b[0m\u001b[1;36m1\u001b[0m\u001b[1;33m-\u001b[0m\u001b[0mY\u001b[0m\u001b[1;33m)\u001b[0m\u001b[1;33m,\u001b[0m \u001b[1;33m(\u001b[0m\u001b[1;36m1\u001b[0m\u001b[1;33m-\u001b[0m\u001b[0mAL\u001b[0m\u001b[1;33m)\u001b[0m\u001b[1;33m)\u001b[0m\u001b[1;33m\u001b[0m\u001b[0m\n\u001b[1;32m---> 15\u001b[1;33m     \u001b[0mgrads\u001b[0m\u001b[1;33m[\u001b[0m\u001b[1;34m\"dA\"\u001b[0m \u001b[1;33m+\u001b[0m \u001b[0mstr\u001b[0m\u001b[1;33m(\u001b[0m\u001b[0mL\u001b[0m\u001b[1;33m)\u001b[0m\u001b[1;33m]\u001b[0m\u001b[1;33m,\u001b[0m \u001b[0mgrads\u001b[0m\u001b[1;33m[\u001b[0m\u001b[1;34m\"dW\"\u001b[0m \u001b[1;33m+\u001b[0m \u001b[0mstr\u001b[0m\u001b[1;33m(\u001b[0m\u001b[0mL\u001b[0m\u001b[1;33m)\u001b[0m\u001b[1;33m]\u001b[0m\u001b[1;33m,\u001b[0m \u001b[0mgrads\u001b[0m\u001b[1;33m[\u001b[0m\u001b[1;34m\"db\"\u001b[0m \u001b[1;33m+\u001b[0m \u001b[0mstr\u001b[0m\u001b[1;33m(\u001b[0m\u001b[0mL\u001b[0m\u001b[1;33m)\u001b[0m\u001b[1;33m]\u001b[0m \u001b[1;33m=\u001b[0m \u001b[0mbackward_propagate\u001b[0m\u001b[1;33m(\u001b[0m\u001b[0mcache\u001b[0m\u001b[1;33m,\u001b[0m \u001b[0mdAL\u001b[0m\u001b[1;33m,\u001b[0m \u001b[1;34m\"sigmoid\"\u001b[0m\u001b[1;33m)\u001b[0m\u001b[1;33m\u001b[0m\u001b[0m\n\u001b[0m\u001b[0;32m     16\u001b[0m     \u001b[1;32mfor\u001b[0m \u001b[0ml\u001b[0m \u001b[1;32min\u001b[0m \u001b[0mreversed\u001b[0m\u001b[1;33m(\u001b[0m\u001b[0mrange\u001b[0m\u001b[1;33m(\u001b[0m\u001b[0mL\u001b[0m\u001b[1;33m-\u001b[0m\u001b[1;36m1\u001b[0m\u001b[1;33m)\u001b[0m\u001b[1;33m)\u001b[0m\u001b[1;33m:\u001b[0m\u001b[1;33m\u001b[0m\u001b[0m\n\u001b[0;32m     17\u001b[0m         \u001b[0ma\u001b[0m\u001b[1;33m,\u001b[0m \u001b[0mb\u001b[0m\u001b[1;33m,\u001b[0m \u001b[0mc\u001b[0m \u001b[1;33m=\u001b[0m \u001b[0mbackward_propagate\u001b[0m\u001b[1;33m(\u001b[0m\u001b[0mcache\u001b[0m\u001b[1;33m,\u001b[0m \u001b[0mgrads\u001b[0m\u001b[1;33m[\u001b[0m\u001b[1;34m\"dA\"\u001b[0m \u001b[1;33m+\u001b[0m \u001b[0mstr\u001b[0m\u001b[1;33m(\u001b[0m\u001b[0ml\u001b[0m \u001b[1;33m+\u001b[0m \u001b[1;36m2\u001b[0m\u001b[1;33m)\u001b[0m\u001b[1;33m]\u001b[0m\u001b[1;33m,\u001b[0m \u001b[1;34m\"relu\"\u001b[0m\u001b[1;33m)\u001b[0m\u001b[1;33m\u001b[0m\u001b[0m\n",
      "\u001b[1;32m<ipython-input-5-3de379f463d7>\u001b[0m in \u001b[0;36mbackward_propagate\u001b[1;34m(cache, dAL, activation)\u001b[0m\n\u001b[0;32m      1\u001b[0m \u001b[1;32mdef\u001b[0m \u001b[0mbackward_propagate\u001b[0m\u001b[1;33m(\u001b[0m\u001b[0mcache\u001b[0m\u001b[1;33m,\u001b[0m \u001b[0mdAL\u001b[0m\u001b[1;33m,\u001b[0m \u001b[0mactivation\u001b[0m\u001b[1;33m)\u001b[0m\u001b[1;33m:\u001b[0m\u001b[1;33m\u001b[0m\u001b[0m\n\u001b[1;32m----> 2\u001b[1;33m     \u001b[0mA_prev\u001b[0m\u001b[1;33m,\u001b[0m \u001b[0mW\u001b[0m\u001b[1;33m,\u001b[0m \u001b[0mb\u001b[0m\u001b[1;33m,\u001b[0m \u001b[0mZ\u001b[0m \u001b[1;33m=\u001b[0m \u001b[0mcache\u001b[0m\u001b[1;33m\u001b[0m\u001b[0m\n\u001b[0m\u001b[0;32m      3\u001b[0m     \u001b[1;32mif\u001b[0m \u001b[0mactivation\u001b[0m \u001b[1;33m==\u001b[0m \u001b[1;34m\"relu\"\u001b[0m\u001b[1;33m:\u001b[0m\u001b[1;33m\u001b[0m\u001b[0m\n\u001b[0;32m      4\u001b[0m         \u001b[0mdZ\u001b[0m \u001b[1;33m=\u001b[0m \u001b[0mrelu_backward\u001b[0m\u001b[1;33m(\u001b[0m\u001b[0mdA\u001b[0m\u001b[1;33m,\u001b[0m \u001b[0mZ\u001b[0m\u001b[1;33m)\u001b[0m\u001b[1;33m\u001b[0m\u001b[0m\n\u001b[0;32m      5\u001b[0m     \u001b[1;32mif\u001b[0m \u001b[0mactivation\u001b[0m \u001b[1;33m==\u001b[0m \u001b[1;34m\"sigmoid\"\u001b[0m\u001b[1;33m:\u001b[0m\u001b[1;33m\u001b[0m\u001b[0m\n",
      "\u001b[1;31mValueError\u001b[0m: not enough values to unpack (expected 4, got 3)"
     ]
    }
   ],
   "source": [
    "print(len(layers_dims))\n",
    "parameters = L_layer_modela(train_x, train_y, layers_dims, num_iterations = 2500, print_cost = True)"
   ]
  }
 ],
 "metadata": {
  "kernelspec": {
   "display_name": "Python 3",
   "language": "python",
   "name": "python3"
  },
  "language_info": {
   "codemirror_mode": {
    "name": "ipython",
    "version": 3
   },
   "file_extension": ".py",
   "mimetype": "text/x-python",
   "name": "python",
   "nbconvert_exporter": "python",
   "pygments_lexer": "ipython3",
   "version": "3.6.3"
  }
 },
 "nbformat": 4,
 "nbformat_minor": 2
}
